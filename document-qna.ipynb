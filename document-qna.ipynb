{
 "cells": [
  {
   "cell_type": "markdown",
   "id": "08c9167b-c40e-475d-940b-72cbbd3de730",
   "metadata": {},
   "source": [
    "# Document Question Answering with AI Applications Search and LangChain"
   ]
  },
  {
   "cell_type": "code",
   "execution_count": 1,
   "id": "55158a30-64bd-484b-8c76-89e2a5cf5fd6",
   "metadata": {
    "tags": []
   },
   "outputs": [
    {
     "name": "stdout",
     "output_type": "stream",
     "text": [
      "\u001b[31mERROR: pip's dependency resolver does not currently take into account all the packages that are installed. This behaviour is the source of the following dependency conflicts.\n",
      "kfp 2.5.0 requires requests-toolbelt<1,>=0.8.0, but you have requests-toolbelt 1.0.0 which is incompatible.\u001b[0m\u001b[31m\n",
      "\u001b[0m"
     ]
    }
   ],
   "source": [
    "! pip install -q --user google-cloud-aiplatform google-cloud-discoveryengine langchain-google-vertexai langchain-google-community"
   ]
  },
  {
   "cell_type": "code",
   "execution_count": 2,
   "id": "497bb85c-ff19-4937-a107-dc1633dace87",
   "metadata": {
    "tags": []
   },
   "outputs": [
    {
     "data": {
      "text/plain": [
       "{'status': 'ok', 'restart': True}"
      ]
     },
     "execution_count": 2,
     "metadata": {},
     "output_type": "execute_result"
    }
   ],
   "source": [
    "# Restart kernel after packages are installed so that your environment can access the new packages\n",
    "import IPython\n",
    "import time\n",
    "\n",
    "app = IPython.Application.instance()\n",
    "app.kernel.do_shutdown(True)"
   ]
  },
  {
   "cell_type": "code",
   "execution_count": 1,
   "id": "ca19906e-61ab-40cd-9d79-94f4b304afa1",
   "metadata": {
    "tags": []
   },
   "outputs": [],
   "source": [
    "PROJECT_ID = \"qwiklabs-gcp-02-826dd3c76c0f\"\n",
    "LOCATION = \"us-east1\"\n",
    "\n",
    "import vertexai\n",
    "\n",
    "vertexai.init(project=PROJECT_ID, location=LOCATION)"
   ]
  },
  {
   "cell_type": "code",
   "execution_count": 2,
   "id": "cba6873c-3006-47c5-88e9-7f37f0f04fb4",
   "metadata": {
    "tags": []
   },
   "outputs": [],
   "source": [
    "DATA_STORE_ID = \"qna-datastore-id\"  # @param {type:\"string\"}\n",
    "DATA_STORE_LOCATION = \"global\"  # @param {type:\"string\"}\n",
    "\n",
    "MODEL = \"gemini-2.0-flash\"  # @param {type:\"string\"}\n",
    "\n",
    "if PROJECT_ID == \"YOUR_PROJECT_ID\" or DATA_STORE_ID == \"YOUR_DATA_STORE_ID\":\n",
    "    raise ValueError(\n",
    "        \"Please set the PROJECT_ID, DATA_STORE_ID constants to reflect your environment.\"\n",
    "    )"
   ]
  },
  {
   "cell_type": "code",
   "execution_count": 3,
   "id": "08af6f12-fe21-4baa-9969-e406858ff340",
   "metadata": {
    "tags": []
   },
   "outputs": [],
   "source": [
    "from langchain.chains import RetrievalQA\n",
    "from langchain.chains import RetrievalQAWithSourcesChain\n",
    "from langchain.chains import ConversationalRetrievalChain\n",
    "from langchain.memory import ConversationBufferMemory\n",
    "from langchain.prompts import PromptTemplate\n",
    "\n",
    "from langchain_google_vertexai import ChatVertexAI\n",
    "from langchain_google_community import VertexAISearchRetriever\n",
    "from langchain_google_community import VertexAIMultiTurnSearchRetriever"
   ]
  },
  {
   "cell_type": "code",
   "execution_count": 4,
   "id": "b2e9de0a-727a-4dbe-94b5-11a6ee2656b5",
   "metadata": {
    "tags": []
   },
   "outputs": [
    {
     "name": "stderr",
     "output_type": "stream",
     "text": [
      "/home/jupyter/.local/lib/python3.10/site-packages/langchain_google_community/vertex_ai_search.py:364: UserWarning: Beta features are configured but beta=False. The following beta features will be ignored:['custom_embedding_ratio']\n",
      "  warnings.warn(\n"
     ]
    }
   ],
   "source": [
    "llm = ChatVertexAI(model_name=MODEL)\n",
    "\n",
    "retriever = VertexAISearchRetriever(\n",
    "    project_id=PROJECT_ID,\n",
    "    location_id=DATA_STORE_LOCATION,\n",
    "    data_store_id=DATA_STORE_ID,\n",
    "    get_extractive_answers=True,\n",
    "    max_documents=10,\n",
    "    max_extractive_segment_count=1,\n",
    "    max_extractive_answer_count=5,\n",
    ")"
   ]
  },
  {
   "cell_type": "markdown",
   "id": "b4aad18d-7539-45d2-8739-f95554bd3672",
   "metadata": {},
   "source": [
    "RetrievalQA simplest document Q&A chain offered by LangChain.\n",
    "\n",
    " - Here, we use the `stuff` type, which simply inserts all of the document chunks into the prompt.\n",
    " - This has the advantage of only making a single LLM call, which is faster and more cost efficient\n",
    " - However, if we have a large number of search results we run the risk of exceeding the token limit in our prompt, or truncating useful information.\n",
    " - Other chain types such as `map_reduce` and `refine` use an iterative process that makes multiple LLM calls, taking individual document chunks at a time and refining the answer iteratively."
   ]
  },
  {
   "cell_type": "code",
   "execution_count": 5,
   "id": "b83a3178-b556-43a8-8b50-ed73305028e1",
   "metadata": {
    "tags": []
   },
   "outputs": [
    {
     "data": {
      "text/plain": [
       "{'query': \"What was Alphabet's Revenue in Q2 2021?\",\n",
       " 'result': \"Alphabet's revenue in Q2 2021 was $61.9 billion.\\n\"}"
      ]
     },
     "execution_count": 5,
     "metadata": {},
     "output_type": "execute_result"
    }
   ],
   "source": [
    "search_query = \"What was Alphabet's Revenue in Q2 2021?\"  # @param {type:\"string\"}\n",
    "\n",
    "retrieval_qa = RetrievalQA.from_chain_type(\n",
    "    llm=llm, chain_type=\"stuff\", retriever=retriever\n",
    ")\n",
    "retrieval_qa.invoke(search_query)"
   ]
  },
  {
   "cell_type": "markdown",
   "id": "6586d98a-0016-461c-8b1d-68c3febb7ac4",
   "metadata": {},
   "source": [
    "Now, we'll be inspecting the document, If we add `return_source_documents=True` we can inspect the document chunks that were returned by the retriever.\n",
    "\n",
    "This is helpful for debugging, as these chunks may not always be relevant to the answer, or their relevance might not be obvious."
   ]
  },
  {
   "cell_type": "code",
   "execution_count": 6,
   "id": "2fde86f3-5228-4648-9f5a-b8210b6d5e17",
   "metadata": {
    "tags": []
   },
   "outputs": [
    {
     "name": "stdout",
     "output_type": "stream",
     "text": [
      "*******************************************************************************\n",
      "Alphabet's revenue in Q2 2021 was $61.9 billion.\n",
      "\n",
      "*******************************************************************************\n",
      "-------------------------------------------------------------------------------\n",
      "Our long-term investments in AI and Google Cloud are helping us drive significant improvements in everyone&#39;s digital experience.” “Our strong second quarter revenues of <b>$61.9 billion</b> reflect elevated consumer online activity and broad-based strength in advertiser spend.\n",
      "-------------------------------------------------------------------------------\n",
      "Alphabet Inc. CONSOLIDATED STATEMENTS OF INCOME (In millions, except share amounts which are reflected in thousands and per share amounts) Quarter Ended June 30, Year To Date June 30, 2020 2021 2020 2021 (unaudited) (unaudited) Revenues $ 38297 $ 61880 $ 79456 $ 117194 Costs and expenses: Cost of revenues 18553 26227 37535 50330 Research and development 6875 7675 13695 15160 Sales and marketing 3901 5276 8401 9792 General and administrative 2585 3341 5465 6114 Total costs and expenses 31914 42519 65096 81396 Income from operations 6383 19361 14360 35798 Other income (expense), net 1894 2624 1674 7470 Income before income taxes 8277 21985 16034 43268 Provision for income taxes 1318 3460 2239 6813 Net income $ 6959 $ 18525 $ 13795 $ 36455 Basic earnings per share of Class A and B common stock and Class C capital stock $ 10.21 $ 27.69 $ 20.16 $ 54.32 Diluted earnings per share of Class A and B common stock and Class C capital stock $ 10.13 $ 27.26 $ 20.00 $ 53.54 Number of shares used in basic earnings per share calculation 681768 668958 684117 671089 Number of shares used in diluted earnings per share calculation 687024 679612 689646 680842 5.\n",
      "-------------------------------------------------------------------------------\n",
      "Q2 2021 supplemental information (in millions, except for number of employees; unaudited) Revenues, Traffic Acquisition Costs (TAC) and number of employees Quarter Ended June 30, 2020 2021 Google Search &amp; other $ 21319 $ 35845 YouTube ads 3812 7002 Google Network 4736 7597 Google advertising 29867 50444 Google other 5124 6623 Google Services total 34991 57067 Google Cloud 3007 4628 Other Bets 148 192 Hedging gains (losses) 151 (7) Total revenues $ 38297 $ 61880 Total TAC $ 6694 $ 10929 Number of employees 127498 144056 Segment Operating Results Quarter Ended June 30, 2020 2021 Operating income (loss): Google Services $ 9539 $ 22343 Google Cloud (1426) (591) Other Bets (1116) (1398) Corporate costs, unallocated (614) (993) Total income from operations $ 6383 $ 19361 Change in the useful lives of our server and network equipment (unaudited) In January 2021, we completed an assessment of the useful lives of our servers and network equipment and adjusted the estimated useful life of our servers from three years to four years and the estimated useful life of certain network equipment from three years to five years.\n",
      "-------------------------------------------------------------------------------\n",
      "As we sharpen our focus, we&#39;ll continue to invest responsibly in deep computer science for the long-term.” Ruth Porat, CFO of Alphabet and Google, said: “Our consistent investments to support long-term growth are reflected in our solid performance in the second quarter, with revenues of <b>$69.7 billion</b> in the quarter, up 13% versus last year or 16% on a constant currency basis.\n",
      "-------------------------------------------------------------------------------\n",
      "Alphabet Inc. CONSOLIDATED STATEMENTS OF INCOME (In millions, except per share amounts, unaudited) Quarter Ended June 30, Year To Date June 30, 2021 2022 2021 2022 Revenues $ 61880 $ 69685 $ 117194 $ 137696 Costs and expenses: Cost of revenues 26227 30104 50330 59703 Research and development 7675 9841 15160 18960 Sales and marketing 5276 6630 9792 12455 General and administrative 3341 3657 6114 7031 Total costs and expenses 42519 50232 81396 98149 Income from operations 19361 19453 35798 39547 Other income (expense), net 2624 (439) 7470 (1599) Income before income taxes 21985 19014 43268 37948 Provision for income taxes 3460 3012 6813 5510 Net income $ 18525 $ 16002 $ 36455 $ 32438 Basic earnings per share of Class A, Class B, and Class C stock $ 1.38 $ 1.22 $ 2.72 $ 2.46 Diluted earnings per share of Class A, Class B, and Class C stock $ 1.36 $ 1.21 $ 2.68 $ 2.44 Number of shares used in basic earnings per share calculation 13379 13133 13422 13168 Number of shares used in diluted earnings per share calculation 13592 13239 13617 13295 5.\n",
      "-------------------------------------------------------------------------------\n",
      "We also share Google news and product updates on Google&#39;s Keyword blog at https://www.blog.google/, which may be of interest or material to our investors.\n",
      "-------------------------------------------------------------------------------\n",
      "&quot;We delivered another quarter of very strong performance, with revenues of $32.7 billion, up 26% versus the second quarter of 2017 and 23% on a constant currency basis.\n",
      "-------------------------------------------------------------------------------\n",
      "Alphabet Inc. CONSOLIDATED STATEMENTS OF INCOME (In millions, except per share amounts; unaudited) Three Months Ended Six Months Ended June 30, June 30, 2017 2018 2017 2018 Revenues $ 26010 $ 32657 $ 50760 $ 63803 Costs and expenses: Cost of revenues 10373 13883 20168 27350 Research and development 4172 5114 8114 10153 Sales and marketing 2897 3780 5541 7384 General and administrative 1700 2002 3501 4037 European Commission fines 2736 5071 2736 5071 Total costs and expenses 21878 29850 40060 53995 Income from operations 4132 2807 10700 9808 Other income (expense), net 245 1408 496 4950 Income before income taxes 4377 4215 11196 14758 Provision for income taxes 853 1020 2246 2162 Net income $ 3524 $ 3195 $ 8950 $ 12596 Basic earnings per share of Class A and B common stock and Class C capital stock $ 5.09 $ 4.60 $ 12.94 $ 18.13 Diluted earnings per share of Class A and B common stock and Class C capital stock $ 5.01 $ 4.54 $ 12.74 $ 17.89.\n",
      "-------------------------------------------------------------------------------\n",
      "Q2 2018 supplemental information (in millions, except for EPS and percentages; unaudited) Segment revenues and operating results Three Months Ended June 30, 2017 Three Months Ended June 30, 2018 Google properties revenues $18425 $23262 Google Network Members&#39; properties revenues 4247 4825 Google advertising revenues 22672 28087 Google other revenues 3241 4425 Google segment revenues $25913 $32512 Other Bets revenues $97 $145 Google operating income* $7664 $8959 Other Bets operating loss ($633) ($732) *The EC fines are included in reconciling items for the three months ended June 30, 2017 and June 30, 2018, respectively, as they are not allocated to Google for segment reporting purposes.\n",
      "-------------------------------------------------------------------------------\n",
      "&quot;With revenues of $26 billion, up 21% versus the second quarter of 2016 and 23% on a constant currency basis, we&#39;re delivering strong growth with great underlying momentum, while continuing to make focused investments in new revenue streams,&quot; said Ruth Porat, CFO of Alphabet.\n",
      "-------------------------------------------------------------------------------\n",
      "Alphabet Inc. CONSOLIDATED STATEMENTS OF INCOME (In millions, except per share amounts; unaudited) Three Months Ended Six Months Ended June 30, June 30, 2016 2017 2016 2017 Revenues $ 21500 $ 26010 $ 41757 $ 50760 Costs and expenses: Cost of revenues 8130 10373 15778 20168 Research and development 3363 4172 6730 8114 Sales and marketing 2415 2897 4802 5541 General and administrative 1624 1700 3137 3501 European Commission fine 0 2736 0 2736 Total costs and expenses 15532 21878 30447 40060 Income from operations 5968 4132 11310 10700 Other income (expense), net 151 245 (62) 496 Income before income taxes 6119 4377 11248 11196 Provision for income taxes 1242 853 2164 2246 Net income $ 4877 $ 3524 $ 9084 $ 8950 Basic net income per share of Class A and B common stock and Class C capital stock $ 7.11 $ 5.09 $ 13.23 $ 12.94 Diluted net income per share of Class A and B common stock and Class C capital stock $ 7.00 $ 5.01 $ 13.01 $ 12.74.\n",
      "-------------------------------------------------------------------------------\n",
      "Non-GAAP operating income: From time to time, we may provide operating income excluding one-time charges.\n",
      "-------------------------------------------------------------------------------\n",
      "Quarter Ended March 31, 2020 2021 Revenues $ 41159 $ 55314 Increase in revenues year over year 13 % 34 % Increase in constant currency revenues year over year(1) 15 % 32 % Operating income $ 7977 $ 16437 Operating margin 19 % 30 % Other income (expense), net $ (220) $ 4846 Net income $ 6836 $ 17930 Diluted EPS $ 9.87 $ 26.29 (1) Non-GAAP measure.\n",
      "-------------------------------------------------------------------------------\n",
      "Alphabet Inc. CONSOLIDATED STATEMENTS OF INCOME (In millions, except share amounts which are reflected in thousands and per share amounts) Quarter Ended March 31, 2020 2021 (unaudited) Revenues $ 41159 $ 55314 Costs and expenses: Cost of revenues 18982 24103 Research and development 6820 7485 Sales and marketing 4500 4516 General and administrative 2880 2773 Total costs and expenses 33182 38877 Income from operations 7977 16437 Other income (expense), net (220) 4846 Income before income taxes 7757 21283 Provision for income taxes 921 3353 Net income $ 6836 $ 17930 Basic earnings per share of Class A and B common stock and Class C capital stock $ 9.96 $ 26.63 Diluted earnings per share of Class A and B common stock and Class C capital stock $ 9.87 $ 26.29 Number of shares used in basic earnings per share calculation 686465 673220 Number of shares used in diluted earnings per share calculation 692267 682071 5.\n",
      "-------------------------------------------------------------------------------\n",
      "This change in accounting estimate was effective beginning in fiscal year 2021 and the effect for the three months ended March 31, 2021, was a reduction in depreciation expense of $835 million and an increase in net income of $650 million, or $0.97 per basic and $0.95 per diluted share.\n",
      "-------------------------------------------------------------------------------\n",
      "And as the digital transformation and shift to hybrid work continue, our Cloud services are helping organizations collaborate and stay secure.” Ruth Porat, CFO of Alphabet and Google, said: “Our consistent investments to support long-term growth are reflected in strong financial performance, with revenues of $65.1 billion in the quarter.\n",
      "-------------------------------------------------------------------------------\n",
      "Alphabet Inc. CONSOLIDATED STATEMENTS OF INCOME (In millions, except share amounts which are reflected in thousands and per share amounts) Quarter Ended September 30, Year To Date September 30, 2020 2021 2020 2021 (unaudited) (unaudited) Revenues $ 46173 $ 65118 $ 125629 $ 182312 Costs and expenses: Cost of revenues 21117 27621 58652 77951 Research and development 6856 7694 20551 22854 Sales and marketing 4231 5516 12632 15308 General and administrative 2756 3256 8221 9370 Total costs and expenses 34960 44087 100056 125483 Income from operations 11213 21031 25573 56829 Other income (expense), net 2146 2033 3820 9503 Income before income taxes 13359 23064 29393 66332 Provision for income taxes 2112 4128 4351 10941 Net income $ 11247 $ 18936 $ 25042 $ 55391 Basic earnings per share of Class A and B common stock and Class C capital stock $ 16.55 $ 28.44 $ 36.69 $ 82.76 Diluted earnings per share of Class A and B common stock and Class C capital stock $ 16.40 $ 27.99 $ 36.38 $ 81.53 Number of shares used in basic earnings per share calculation 679449 665758 682561 669312 Number of shares used in diluted earnings per share calculation 685851 676519 688381 679401 5.\n",
      "-------------------------------------------------------------------------------\n",
      "Alphabet Inc. CONSOLIDATED BALANCE SHEETS (In millions, except share amounts which are reflected in thousands and par value per share amounts) As of December 31, As of September 30, 2020 2021 (unaudited) Assets Current assets: Cash and cash equivalents $ 26465 $ 23719 Marketable securities 110229 118284 Total cash, cash equivalents, and marketable securities 136694 142003 Accounts receivable, net 30930 34047 Income taxes receivable, net 454 753 Inventory 728 1278 Other current assets 5490 6029 Total current assets 174296 184110 Non-marketable investments 20703 26101 Deferred income taxes 1084 1195 Property and equipment, net 84749 94631 Operating lease assets 12211 12918 Intangible assets, net 1445 1549 Goodwill 21175 22623 Other non-current assets 3953 4276 Total assets $ 319616 $ 347403 Liabilities and Stockholders&#39; Equity Current liabilities: Accounts payable $ 5589 $ 4616 Accrued compensation and benefits 11086 12170 Accrued expenses and other current liabilities 28631 30113 Accrued revenue share 7500 7745 Deferred revenue 2543 2968 Income taxes payable, net 1485 4170 Total current liabilities 56834 61782 Long-term debt 13932 14288 Deferred revenue, non-current 481 510 Income taxes payable, non-current 8849 8984 Deferred income taxes 3561 3551 Operating lease liabilities 11146 11471 Other long-term liabilities 2269 2250 Total liabilities 97072 102836 Contingencies Stockholders&#39; equity: Convertible preferred stock, $0.001 par value per share, 100000 shares authorized; no shares issued and outstanding 0 0 Class A and Class B common stock, and Class C capital stock and additional paid-in capital, $0.001 par value per share: 15000000 shares authorized (Class A 9000000, Class B 3000000, Class C 3000000); 675222 (Class A 300730, Class B 45843, Class C 328649) and 664682 (Class A 300801, Class B 45261, Class C 318620) shares issued and outstanding 58510 61193 Accumulated other comprehensive income (loss) 633 (408) Retained earnings 163401 183782 Total stockholders&#39; equity 222544 244567 Total liabilities and stockholders&#39; equity $ 319616 $ 347403 4.\n",
      "-------------------------------------------------------------------------------\n",
      "“We&#39;re working to help people, businesses and communities in these uncertain times,” said Sundar Pichai, Chief Executive Officer of Google and Alphabet. “As people increasingly turn to online services, our platforms — from Cloud to Google Play to YouTube — are helping our partners provide important services and support their businesses.” “In the second quarter our total revenues were $38.3B, driven by gradual improvement in our ads business and strong growth in Google Cloud and Other Revenues,” said Ruth Porat, Chief Financial Officer of Alphabet and Google. “We continue to navigate through a difficult global economic environment.” Q2 2020 financial highlights The following table summarizes our consolidated financial results for the quarters ended June 30, 2019 and 2020 (in millions, except for per share information and percentages; unaudited).\n",
      "-------------------------------------------------------------------------------\n",
      "Alphabet Inc. CONSOLIDATED STATEMENTS OF INCOME (In millions, except share amounts which are reflected in thousands and per share amounts; unaudited) Quarter Ended June 30, Year to Date June 30, 2019 2020 2019 2020 Revenues $ 38944 $ 38297 $ 75283 $ 79456 Costs and expenses: Cost of revenues 17296 18553 33308 37535 Research and development 6213 6875 12242 13695 Sales and marketing 4212 3901 8117 8401 General and administrative 2043 2585 4131 5465 European Commission fines 0 0 1697 0 Total costs and expenses 29764 31914 59495 65096 Income from operations 9180 6383 15788 14360 Other income (expense), net 2967 1894 4505 1674 Income before income taxes 12147 8277 20293 16034 Provision for income taxes 2200 1318 3689 2239 Net income $ 9947 $ 6959 $ 16604 $ 13795 Basic earnings per share of Class A and B common stock and Class C capital stock $ 14.33 $ 10.21 $ 23.91 $ 20.16 Diluted earnings per share of Class A and B common stock and Class C capital stock $ 14.21 $ 10.13 $ 23.71 $ 20.00 Number of shares used in basic earnings per share calculation 693969 681768 694419 684117 Number of shares used in diluted earnings per share calculation 699954 687024 700417 689646 5.\n",
      "-------------------------------------------------------------------------------\n",
      "We also share Google news and product updates on Google&#39;s Keyword blog at https://www.blog.google/, which may be of interest or material to our investors.\n",
      "-------------------------------------------------------------------------------\n",
      "Our longstanding infrastructure leadership and in-house research teams position us well as technology evolves and as we pursue the many opportunities ahead.” Ruth Porat, President and Chief Investment Officer; CFO said: “We delivered revenues of $85 billion, up 14% year on-year driven by Search as well as Cloud, which for the first time exceeded $10 billion in quarterly revenues and $1 billion in operating profit.\n",
      "-------------------------------------------------------------------------------\n",
      "Alphabet Inc. CONSOLIDATED STATEMENTS OF INCOME (In millions, except per share amounts, unaudited) Quarter Ended June 30, Year to Date June 30, 2023 2024 2023 2024 Revenues $ 74604 $ 84742 $ 144391 $ 165281 Costs and expenses: Cost of revenues 31916 35507 62528 69219 Research and development 10588 11860 22056 23763 Sales and marketing 6781 6792 13314 13218 General and administrative 3481 3158 7240 6184 Total costs and expenses 52766 57317 105138 112384 Income from operations 21838 27425 39253 52897 Other income (expense), net 65 126 855 2969 Income before income taxes 21903 27551 40108 55866 Provision for income taxes 3535 3932 6689 8585 Net income $ 18368 $ 23619 $ 33419 $ 47281 Basic earnings per share $ 1.45 $ 1.91 $ 2.63 $ 3.82 Diluted earnings per share $ 1.44 $ 1.89 $ 2.61 $ 3.78 Number of shares used in basic earnings per share calculation 12668 12343 12725 12379 Number of shares used in diluted earnings per share calculation 12764 12495 12794 12511 5.\n",
      "-------------------------------------------------------------------------------\n",
      "On July 23, 2024, Alphabet announced a cash dividend of $0.20 per share that will be paid on September 16, 2024, to stockholders of record as of September 9, 2024, on each of the company&#39;s Class A, Class B, and Class C shares. 2.\n",
      "-------------------------------------------------------------------------------\n",
      "Quarter Ended December 31, Year Ended December 31, 2020 2021 2020 2021 (unaudited) (unaudited) Revenues $ 56898 $ 75325 $ 182527 $ 257637 Increase in revenues year over year 23 % 32 % 13 % 41 % Operating income $ 15651 $ 21885 $ 41224 $ 78714 Operating margin 28 % 29 % 23 % 31 % Other income (expense), net $ 3038 $ 2517 $ 6858 $ 12020 Net income $ 15227 $ 20642 $ 40269 $ 76033 Diluted EPS $ 22.30 $ 30.69 $ 58.61 $ 112.20.\n",
      "-------------------------------------------------------------------------------\n",
      "Alphabet Inc. CONSOLIDATED STATEMENTS OF INCOME (In millions, except share amounts which are reflected in thousands and per share amounts) Quarter Ended December 31, Year Ended December 31, 2020 2021 2020 2021 (unaudited) (unaudited) Revenues $ 56898 $ 75325 $ 182527 $ 257637 Costs and expenses: Cost of revenues 26080 32988 84732 110939 Research and development 7022 8708 27573 31562 Sales and marketing 5314 7604 17946 22912 General and administrative 2831 4140 11052 13510 Total costs and expenses 41247 53440 141303 178923 Income from operations 15651 21885 41224 78714 Other income (expense), net 3038 2517 6858 12020 Income before income taxes 18689 24402 48082 90734 Provision for income taxes 3462 3760 7813 14701 Net income $ 15227 $ 20642 $ 40269 $ 76033 Basic earnings per share of Class A and B common stock and Class C capital stock $ 22.54 $ 31.15 $ 59.15 $ 113.88 Diluted earnings per share of Class A and B common stock and Class C capital stock $ 22.30 $ 30.69 $ 58.61 $ 112.20 Number of shares used in basic earnings per share calculation 675582 662663 680816 667650 Number of shares used in diluted earnings per share calculation 682969 672493 687028 677674 5.\n",
      "-------------------------------------------------------------------------------\n",
      "This change in accounting estimate was effective beginning in fiscal year 2021, and the effect for the three and twelve months ended December 31, 2021, respectively, was a reduction in depreciation expense of $446 million and $2.6 billion and an increase in net income of $347 million and $2.0 billion, or $0.52 and $3.02 per basic share and $0.52 and $2.98 per diluted share.\n",
      "-------------------------------------------------------------------------------\n",
      "&quot;We delivered robust growth led by mobile search, YouTube, and Cloud with Alphabet revenues of $36.3 billion, up 17% versus last year, or 19% on a constant currency basis,&quot; said Ruth Porat, Chief Financial Officer of Alphabet and Google.\n",
      "-------------------------------------------------------------------------------\n",
      "Alphabet Inc. CONSOLIDATED STATEMENTS OF INCOME (In millions, except per share amounts; unaudited) Three Months Ended March 31, 2018 2019 Revenues $ 31146 $ 36339 Costs and expenses: Cost of revenues 13467 16012 Research and development 5039 6029 Sales and marketing 3604 3905 General and administrative 1403 2088 European Commission fine 0 1697 Total costs and expenses 23513 29731 Income from operations 7633 6608 Other income (expense), net 2910 1538 Income before income taxes 10543 8146 Provision for income taxes 1142 1489 Net income $ 9401 $ 6657 Basic earnings per share of Class A and B common stock and Class C capital stock $ 13.53 $ 9.58 Diluted earnings per share of Class A and B common stock and Class C capital stock $ 13.33 $ 9.50.\n",
      "-------------------------------------------------------------------------------\n",
      "Non-GAAP operating income: we define non-GAAP operating income as operating income excluding certain charges. Non-GAAP operating margin: we define non-GAAP operating margin as non-GAAP operating income divided by revenues.\n"
     ]
    }
   ],
   "source": [
    "retrieval_qa = RetrievalQA.from_chain_type(\n",
    "    llm=llm, chain_type=\"stuff\", retriever=retriever, return_source_documents=True\n",
    ")\n",
    "\n",
    "results = retrieval_qa.invoke(search_query)\n",
    "\n",
    "print(\"*\" * 79)\n",
    "print(results[\"result\"])\n",
    "print(\"*\" * 79)\n",
    "for doc in results[\"source_documents\"]:\n",
    "    print(\"-\" * 79)\n",
    "    print(doc.page_content)"
   ]
  },
  {
   "cell_type": "markdown",
   "id": "da251773-f538-4767-8889-2312c4d08df5",
   "metadata": {},
   "source": [
    "RetrievalQAWithSourceChain variant returns an answer to the question alongside the source documents that were used to generate the answer."
   ]
  },
  {
   "cell_type": "code",
   "execution_count": 7,
   "id": "ab9d96a2-d2b9-415c-8be4-611901041591",
   "metadata": {
    "tags": []
   },
   "outputs": [
    {
     "data": {
      "text/plain": [
       "{'answer': \"Alphabet's revenue in Q2 2021 was $61.9 billion.\\n\",\n",
       " 'sources': 'gs://cloud-samples-data/gen-app-builder/search/alphabet-investor-pdfs/2021Q2_alphabet_earnings_release.pdf1, gs://cloud-samples-data/gen-app-builder/search/alphabet-investor-pdfs/2021Q2_alphabet_earnings_release.pdf5, gs://cloud-samples-data/gen-app-builder/search/alphabet-investor-pdfs/2021Q2_alphabet_earnings_release.pdf2'}"
      ]
     },
     "execution_count": 7,
     "metadata": {},
     "output_type": "execute_result"
    }
   ],
   "source": [
    "retrieval_qa_with_sources = RetrievalQAWithSourcesChain.from_chain_type(\n",
    "    llm=llm, chain_type=\"stuff\", retriever=retriever\n",
    ")\n",
    "\n",
    "retrieval_qa_with_sources.invoke(search_query, return_only_outputs=True)"
   ]
  },
  {
   "cell_type": "markdown",
   "id": "5fbb6b74-d574-47f2-b64d-3eb478be2439",
   "metadata": {},
   "source": [
    "`ConversationalRetrievalChain` remembers and uses previous questions so you can have a chat-like discovery process.\n",
    "\n",
    "To use this chain we must provide a memory class to store and pass the previous messages to the LLM as context. Here we use the `ConversationBufferMemory` class that comes with LangChain.\n",
    "\n",
    "`VertexAIMultiTurnSearchRetriever` uses multi-turn search (also called conversational search or search with followups) to preserve context between requests.\n",
    "\n",
    "Now will work with both retrievers, and the multi-turn retriever can be substituted in any of the previous examples."
   ]
  },
  {
   "cell_type": "code",
   "execution_count": 12,
   "id": "1b2162a0-ac79-47f2-b27a-0108b99be468",
   "metadata": {
    "tags": []
   },
   "outputs": [
    {
     "name": "stdout",
     "output_type": "stream",
     "text": [
      "Alphabet revenues in 2022 were $282,836 million.\n"
     ]
    }
   ],
   "source": [
    "multi_turn_retriever = VertexAIMultiTurnSearchRetriever(\n",
    "    project_id=PROJECT_ID, location_id=DATA_STORE_LOCATION, data_store_id=DATA_STORE_ID\n",
    ")\n",
    "memory = ConversationBufferMemory(memory_key=\"chat_history\", return_messages=True)\n",
    "conversational_retrieval = ConversationalRetrievalChain.from_llm(\n",
    "    llm=llm, retriever=multi_turn_retriever, memory=memory\n",
    ")\n",
    "\n",
    "search_query = \"What were alphabet revenues in 2022?\"\n",
    "\n",
    "result = conversational_retrieval.invoke(search_query)\n",
    "print(result[\"answer\"])"
   ]
  },
  {
   "cell_type": "code",
   "execution_count": 13,
   "id": "87cef655-54fc-49fd-854f-c4c9969f903b",
   "metadata": {
    "tags": []
   },
   "outputs": [
    {
     "name": "stdout",
     "output_type": "stream",
     "text": [
      "Alphabet's costs and expenses in 2022 were $207,994 million.\n"
     ]
    }
   ],
   "source": [
    "new_query = \"What about costs and expenses?\"\n",
    "result = conversational_retrieval.invoke(new_query)\n",
    "print(result[\"answer\"])"
   ]
  },
  {
   "cell_type": "code",
   "execution_count": 14,
   "id": "3e553c6e-ef17-43e3-a802-0b4a76c4196d",
   "metadata": {
    "tags": []
   },
   "outputs": [
    {
     "name": "stdout",
     "output_type": "stream",
     "text": [
      "Yes, Alphabet's total costs and expenses in 2022 were $207,994 million, while in 2021 they were $178,923 million.\n",
      "\n"
     ]
    }
   ],
   "source": [
    "new_query = \"Is this more than in 2021?\"\n",
    "\n",
    "result = conversational_retrieval.invoke(new_query)\n",
    "print(result[\"answer\"])"
   ]
  },
  {
   "cell_type": "code",
   "execution_count": null,
   "id": "8810f90d-2e30-48fc-833a-d82f6bf409c5",
   "metadata": {},
   "outputs": [],
   "source": [
    "qa = RetrievalQA.from_chain_type(\n",
    "    llm=llm, chain_type=\"stuff\", retriever=retriever, return_source_documents=True\n",
    ")\n",
    "\n",
    "print(qa.combine_documents_chain.llm_chain.prompt.messages[0].prompt.template)"
   ]
  }
 ],
 "metadata": {
  "environment": {
   "kernel": "conda-base-py",
   "name": "workbench-notebooks.m131",
   "type": "gcloud",
   "uri": "us-docker.pkg.dev/deeplearning-platform-release/gcr.io/workbench-notebooks:m131"
  },
  "kernelspec": {
   "display_name": "Python 3 (ipykernel) (Local) (Local)",
   "language": "python",
   "name": "conda-base-py"
  },
  "language_info": {
   "codemirror_mode": {
    "name": "ipython",
    "version": 3
   },
   "file_extension": ".py",
   "mimetype": "text/x-python",
   "name": "python",
   "nbconvert_exporter": "python",
   "pygments_lexer": "ipython3",
   "version": "3.10.18"
  }
 },
 "nbformat": 4,
 "nbformat_minor": 5
}
