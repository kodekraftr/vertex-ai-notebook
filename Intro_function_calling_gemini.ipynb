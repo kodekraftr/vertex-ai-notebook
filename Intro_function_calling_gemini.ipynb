{
 "cells": [
  {
   "cell_type": "code",
   "execution_count": 1,
   "id": "97a444ce-9f9f-458b-ae0e-5cd107763aff",
   "metadata": {
    "tags": []
   },
   "outputs": [],
   "source": [
    "! pip install --upgrade --quiet google-genai"
   ]
  },
  {
   "cell_type": "code",
   "execution_count": 2,
   "id": "e1408490-fb0c-4633-a213-6deba58d4e40",
   "metadata": {
    "tags": []
   },
   "outputs": [
    {
     "data": {
      "text/plain": [
       "{'status': 'ok', 'restart': True}"
      ]
     },
     "execution_count": 2,
     "metadata": {},
     "output_type": "execute_result"
    }
   ],
   "source": [
    "import IPython\n",
    "\n",
    "app = IPython.Application.instance()\n",
    "app.kernel.do_shutdown(True)"
   ]
  },
  {
   "cell_type": "code",
   "execution_count": 1,
   "id": "27585534-1e58-42ea-9859-e94357f166a2",
   "metadata": {
    "tags": []
   },
   "outputs": [],
   "source": [
    "import os\n",
    "\n",
    "PROJECT_ID = \"qwiklabs-gcp-00-9a01b70b3057\"\n",
    "if not PROJECT_ID or PROJECT_ID == \"[your-project-id]\":\n",
    "    PROJECT_ID = str(os.environ.get(\"GOOGLE_CLOUD_PROJECT\"))\n",
    "\n",
    "LOCATION = os.environ.get(\"GOOGLE_CLOUD_REGION\", \"us-central1\")\n",
    "\n",
    "from google import genai\n",
    "\n",
    "client = genai.Client(vertexai=True, project=PROJECT_ID, location=LOCATION)"
   ]
  },
  {
   "cell_type": "code",
   "execution_count": 2,
   "id": "ea201198-39f5-40d9-b781-44ec3f813cd9",
   "metadata": {
    "tags": []
   },
   "outputs": [],
   "source": [
    "from IPython.display import Markdown, display\n",
    "from google.genai.types import FunctionDeclaration, GenerateContentConfig, Part, Tool\n",
    "import requests"
   ]
  },
  {
   "cell_type": "markdown",
   "id": "67cbb632-add4-4d69-89c2-f83aec9eb24a",
   "metadata": {},
   "source": [
    "## Function Calling to geocode addresses with a maps API"
   ]
  },
  {
   "cell_type": "code",
   "execution_count": 3,
   "id": "1208e212-6203-4af5-be27-783af605fb5f",
   "metadata": {
    "tags": []
   },
   "outputs": [],
   "source": [
    "MODEL_ID = \"gemini-2.0-flash-001\""
   ]
  },
  {
   "cell_type": "code",
   "execution_count": 4,
   "id": "39ae6f20-aa15-41b5-bf79-d55a4bdf08a7",
   "metadata": {
    "tags": []
   },
   "outputs": [],
   "source": [
    "def get_location(\n",
    "    amenity: str | None = None,\n",
    "    street: str | None = None,\n",
    "    city: str | None = None,\n",
    "    county: str | None = None,\n",
    "    state: str | None = None,\n",
    "    country: str | None = None,\n",
    "    postalcode: str | None = None,\n",
    ") -> list[dict]:\n",
    "    \"\"\"\n",
    "    Get latitude and longitude for a given location.\n",
    "\n",
    "    Args:\n",
    "        amenity (str | None): Amenity or Point of interest.\n",
    "        street (str | None): Street name.\n",
    "        city (str | None): City name.\n",
    "        county (str | None): County name.\n",
    "        state (str | None): State name.\n",
    "        country (str | None): Country name.\n",
    "        postalcode (str | None): Postal code.\n",
    "\n",
    "    Returns:\n",
    "        list[dict]: A list of dictionaries with the latitude and longitude of the given location.\n",
    "                    Returns an empty list if the location cannot be determined.\n",
    "    \"\"\"\n",
    "    base_url = \"https://nominatim.openstreetmap.org/search\"\n",
    "    params = {\n",
    "        \"amenity\": amenity,\n",
    "        \"street\": street,\n",
    "        \"city\": city,\n",
    "        \"county\": county,\n",
    "        \"state\": state,\n",
    "        \"country\": country,\n",
    "        \"postalcode\": postalcode,\n",
    "        \"format\": \"json\",\n",
    "    }\n",
    "    # Filter out None values from parameters\n",
    "    params = {k: v for k, v in params.items() if v is not None}\n",
    "\n",
    "    try:\n",
    "        response = requests.get(base_url, params=params, headers={\"User-Agent\": \"none\"})\n",
    "        response.raise_for_status()\n",
    "        return response.json()\n",
    "    except requests.RequestException as e:\n",
    "        print(f\"Error fetching location data: {e}\")\n",
    "        return []"
   ]
  },
  {
   "cell_type": "code",
   "execution_count": 5,
   "id": "d3e0e73a-8071-401d-bfe3-3a81bf819588",
   "metadata": {
    "tags": []
   },
   "outputs": [
    {
     "name": "stdout",
     "output_type": "stream",
     "text": [
      "The coordinates for 1600 Amphitheatre Pkwy, Mountain View, CA 94043 are: latitude 37.4224857, longitude -122.0855846.\n",
      "\n"
     ]
    }
   ],
   "source": [
    "prompt = \"\"\"\n",
    "I want to get the coordinates for the following address:\n",
    "1600 Amphitheatre Pkwy, Mountain View, CA 94043\n",
    "\"\"\"\n",
    "\n",
    "response = client.models.generate_content(\n",
    "    model=MODEL_ID,\n",
    "    contents=prompt,\n",
    "    config=GenerateContentConfig(tools=[get_location], temperature=0),\n",
    ")\n",
    "print(response.text)"
   ]
  },
  {
   "cell_type": "code",
   "execution_count": 6,
   "id": "16dd5e05-1a0b-4581-b9dc-e12c644082ef",
   "metadata": {
    "tags": []
   },
   "outputs": [],
   "source": [
    "get_product_info = FunctionDeclaration(\n",
    "    name=\"get_product_info\",\n",
    "    description=\"Get the stock amount and identifier for a given product\",\n",
    "    parameters={\n",
    "        \"type\": \"OBJECT\",\n",
    "        \"properties\": {\n",
    "            \"product_name\": {\"type\": \"STRING\", \"description\": \"Product name\"}\n",
    "        },\n",
    "    },\n",
    ")\n",
    "\n",
    "get_store_location = FunctionDeclaration(\n",
    "    name=\"get_store_location\",\n",
    "    description=\"Get the location of the closest store\",\n",
    "    parameters={\n",
    "        \"type\": \"OBJECT\",\n",
    "        \"properties\": {\"location\": {\"type\": \"STRING\", \"description\": \"Location\"}},\n",
    "    },\n",
    ")\n",
    "\n",
    "place_order = FunctionDeclaration(\n",
    "    name=\"place_order\",\n",
    "    description=\"Place an order\",\n",
    "    parameters={\n",
    "        \"type\": \"OBJECT\",\n",
    "        \"properties\": {\n",
    "            \"product\": {\"type\": \"STRING\", \"description\": \"Product name\"},\n",
    "            \"address\": {\"type\": \"STRING\", \"description\": \"Shipping address\"},\n",
    "        },\n",
    "    },\n",
    ")\n",
    "\n",
    "retail_tool = Tool(\n",
    "    function_declarations=[\n",
    "        get_product_info,\n",
    "        get_store_location,\n",
    "        place_order,\n",
    "    ],\n",
    ")"
   ]
  },
  {
   "cell_type": "code",
   "execution_count": 7,
   "id": "96c445de-2e0e-47a5-9c3a-ad3deee0d961",
   "metadata": {
    "tags": []
   },
   "outputs": [],
   "source": [
    "chat = client.chats.create(\n",
    "    model=MODEL_ID,\n",
    "    config=GenerateContentConfig(\n",
    "        temperature=0,\n",
    "        tools=[retail_tool],\n",
    "    ),\n",
    ")"
   ]
  },
  {
   "cell_type": "code",
   "execution_count": 8,
   "id": "a0682159-6b5e-45b0-9964-4eb5e50a89d1",
   "metadata": {
    "tags": []
   },
   "outputs": [
    {
     "data": {
      "text/plain": [
       "FunctionCall(\n",
       "  args={\n",
       "    'product_name': 'Pixel 9'\n",
       "  },\n",
       "  name='get_product_info'\n",
       ")"
      ]
     },
     "execution_count": 8,
     "metadata": {},
     "output_type": "execute_result"
    }
   ],
   "source": [
    "prompt = \"\"\"\n",
    "Do you have the Pixel 9 in stock?\n",
    "\"\"\"\n",
    "\n",
    "response = chat.send_message(prompt)\n",
    "response.function_calls[0]"
   ]
  },
  {
   "cell_type": "markdown",
   "id": "2c4c8f13-099b-4cc6-b75d-e69c5c6933bb",
   "metadata": {},
   "source": [
    "Using synthetic data to simulate a response payload from an external API."
   ]
  },
  {
   "cell_type": "code",
   "execution_count": 11,
   "id": "760ad884-214f-4b8d-94db-5988eb4fbee9",
   "metadata": {
    "tags": []
   },
   "outputs": [],
   "source": [
    "api_response = {\"sku\": \"GA04834-US\", \"in_stock\": \"yes\"}"
   ]
  },
  {
   "cell_type": "code",
   "execution_count": 12,
   "id": "04f6b621-8e84-4b26-801c-6bd4b9dc43ee",
   "metadata": {
    "tags": []
   },
   "outputs": [
    {
     "data": {
      "text/markdown": [
       "Yes, we have the Pixel 9 in stock.\n"
      ],
      "text/plain": [
       "<IPython.core.display.Markdown object>"
      ]
     },
     "metadata": {},
     "output_type": "display_data"
    }
   ],
   "source": [
    "response = chat.send_message(\n",
    "    Part.from_function_response(\n",
    "        name=\"get_product_info\",\n",
    "        response={\n",
    "            \"content\": api_response,\n",
    "        },\n",
    "    ),\n",
    ")\n",
    "display(Markdown(response.text))"
   ]
  },
  {
   "cell_type": "code",
   "execution_count": 13,
   "id": "8de754f7-da22-415a-878b-ee6abc1db8bb",
   "metadata": {
    "tags": []
   },
   "outputs": [
    {
     "data": {
      "text/plain": [
       "[FunctionCall(\n",
       "   args={\n",
       "     'product_name': 'Pixel 9 Pro XL'\n",
       "   },\n",
       "   name='get_product_info'\n",
       " ),\n",
       " FunctionCall(\n",
       "   args={\n",
       "     'location': 'Mountain View, CA'\n",
       "   },\n",
       "   name='get_store_location'\n",
       " )]"
      ]
     },
     "execution_count": 13,
     "metadata": {},
     "output_type": "execute_result"
    }
   ],
   "source": [
    "prompt = \"\"\"\n",
    "What about the Pixel 9 Pro XL? Is there a store in\n",
    "Mountain View, CA that I can visit to try one out?\n",
    "\"\"\"\n",
    "\n",
    "response = chat.send_message(prompt)\n",
    "response.function_calls"
   ]
  },
  {
   "cell_type": "code",
   "execution_count": 14,
   "id": "9a74d995-424d-4671-a821-c84e2159128e",
   "metadata": {
    "tags": []
   },
   "outputs": [],
   "source": [
    "product_info_api_response = {\"sku\": \"GA08475-US\", \"in_stock\": \"yes\"}\n",
    "store_location_api_response = {\n",
    "    \"store\": \"2000 N Shoreline Blvd, Mountain View, CA 94043, US\"\n",
    "}"
   ]
  },
  {
   "cell_type": "code",
   "execution_count": 15,
   "id": "27c518cf-5f03-48ec-badb-4a2d95af0220",
   "metadata": {
    "tags": []
   },
   "outputs": [
    {
     "data": {
      "text/markdown": [
       "Yes, the Pixel 9 Pro XL is in stock. The store location in Mountain View, CA is 2000 N Shoreline Blvd.\n"
      ],
      "text/plain": [
       "<IPython.core.display.Markdown object>"
      ]
     },
     "metadata": {},
     "output_type": "display_data"
    }
   ],
   "source": [
    "response = chat.send_message(\n",
    "    [\n",
    "        Part.from_function_response(\n",
    "            name=\"get_product_info\",\n",
    "            response={\n",
    "                \"content\": product_info_api_response,\n",
    "            },\n",
    "        ),\n",
    "        Part.from_function_response(\n",
    "            name=\"get_store_location\",\n",
    "            response={\n",
    "                \"content\": store_location_api_response,\n",
    "            },\n",
    "        ),\n",
    "    ]\n",
    ")\n",
    "display(Markdown(response.text))"
   ]
  },
  {
   "cell_type": "code",
   "execution_count": 16,
   "id": "439d2023-fab9-4a0d-953b-5af4b1666e40",
   "metadata": {
    "tags": []
   },
   "outputs": [
    {
     "data": {
      "text/plain": [
       "[FunctionCall(\n",
       "   args={\n",
       "     'address': '1155 Borregas Ave, Sunnyvale, CA 94089',\n",
       "     'product': 'Pixel 9 Pro XL'\n",
       "   },\n",
       "   name='place_order'\n",
       " )]"
      ]
     },
     "execution_count": 16,
     "metadata": {},
     "output_type": "execute_result"
    }
   ],
   "source": [
    "prompt = \"\"\"\n",
    "I'd like to order a Pixel 9 Pro XL and have it shipped to 1155 Borregas Ave, Sunnyvale, CA 94089.\n",
    "\"\"\"\n",
    "\n",
    "response = chat.send_message(prompt)\n",
    "response.function_calls"
   ]
  },
  {
   "cell_type": "code",
   "execution_count": 17,
   "id": "8cc71900-56a5-4081-bb26-cfb7f781ad6b",
   "metadata": {
    "tags": []
   },
   "outputs": [],
   "source": [
    "order_api_response = {\n",
    "    \"payment_status\": \"paid\",\n",
    "    \"order_number\": 12345,\n",
    "    \"est_arrival\": \"2 days\",\n",
    "}"
   ]
  },
  {
   "cell_type": "code",
   "execution_count": null,
   "id": "ff87141c-e34a-45e0-bd1c-f347260e38e9",
   "metadata": {},
   "outputs": [],
   "source": []
  }
 ],
 "metadata": {
  "environment": {
   "kernel": "conda-base-py",
   "name": "workbench-notebooks.m131",
   "type": "gcloud",
   "uri": "us-docker.pkg.dev/deeplearning-platform-release/gcr.io/workbench-notebooks:m131"
  },
  "kernelspec": {
   "display_name": "Python 3 (ipykernel) (Local)",
   "language": "python",
   "name": "conda-base-py"
  },
  "language_info": {
   "codemirror_mode": {
    "name": "ipython",
    "version": 3
   },
   "file_extension": ".py",
   "mimetype": "text/x-python",
   "name": "python",
   "nbconvert_exporter": "python",
   "pygments_lexer": "ipython3",
   "version": "3.10.18"
  }
 },
 "nbformat": 4,
 "nbformat_minor": 5
}
